{
 "cells": [
  {
   "cell_type": "code",
   "execution_count": 3,
   "metadata": {},
   "outputs": [],
   "source": [
    "import numpy as np\n",
    "import utils"
   ]
  },
  {
   "cell_type": "code",
   "execution_count": 7,
   "metadata": {},
   "outputs": [],
   "source": [
    "def load_XOR_data(N = 300):\n",
    "    rng = np.random.RandomState(0)\n",
    "    X = rng.randn(N, 2)\n",
    "    y = np.array(np.logical_xor(X[:, 0] > 0, X[:, 1] > 0), dtype = int)\n",
    "    y = np.expand_dims(y, 1)\n",
    "    y_hot_encoded = []\n",
    "    for x in y:\n",
    "        if x == 0:\n",
    "            y_hot_encoded.append([1, 0])\n",
    "        else:\n",
    "            y_hot_encoded.append([0, 1])\n",
    "    return X, np.array(y_hot_encoded)"
   ]
  },
  {
   "cell_type": "code",
   "execution_count": 8,
   "metadata": {},
   "outputs": [],
   "source": [
    "def sigmoid(z, first_derivative = False):\n",
    "    if first_derivative:\n",
    "        return z * (1.0 - z)\n",
    "    return 1.0 / (1.0 + np.exp(-x))"
   ]
  },
  {
   "cell_type": "code",
   "execution_count": 9,
   "metadata": {},
   "outputs": [],
   "source": [
    "def tanh(z, first_derivative = True):\n",
    "    if first_derivative:\n",
    "        return (1.0 - z * z)\n",
    "    return (1.0 - np.exp(-z)) / (1.0 + np.exp(-z))"
   ]
  },
  {
   "cell_type": "code",
   "execution_count": 10,
   "metadata": {},
   "outputs": [],
   "source": [
    "def inference(data, weights):\n",
    "    h1 = sigmoid(np.matmul(data, weights[0]))\n",
    "    logits = np.matmul(h1, weights[1])\n",
    "    probs = np.exp(logits) / np.sum(np.exp(logits), axis = 1, keepdims = True)\n",
    "    return np.argmax(probs, axis = 1)"
   ]
  },
  {
   "cell_type": "code",
   "execution_count": 11,
   "metadata": {},
   "outputs": [
    {
     "ename": "NameError",
     "evalue": "name 'shape' is not defined",
     "output_type": "error",
     "traceback": [
      "\u001b[1;31m---------------------------------------------------------------------------\u001b[0m",
      "\u001b[1;31mNameError\u001b[0m                                 Traceback (most recent call last)",
      "\u001b[1;32m<ipython-input-11-8ae429086aa1>\u001b[0m in \u001b[0;36m<module>\u001b[1;34m\u001b[0m\n\u001b[0;32m     81\u001b[0m             \u001b[0mutils\u001b[0m\u001b[1;33m.\u001b[0m\u001b[0mplot_function\u001b[0m\u001b[1;33m(\u001b[0m\u001b[0maccuracies\u001b[0m\u001b[1;33m,\u001b[0m \u001b[0msave_filepath\u001b[0m\u001b[1;33m=\u001b[0m\u001b[0msave_filepath\u001b[0m\u001b[1;33m,\u001b[0m \u001b[0mylabel\u001b[0m\u001b[1;33m=\u001b[0m\u001b[1;34m'Accuracy'\u001b[0m\u001b[1;33m,\u001b[0m \u001b[0mtitle\u001b[0m\u001b[1;33m=\u001b[0m\u001b[1;34m'Accuracy estimation'\u001b[0m\u001b[1;33m)\u001b[0m\u001b[1;33m\u001b[0m\u001b[1;33m\u001b[0m\u001b[0m\n\u001b[0;32m     82\u001b[0m \u001b[1;33m\u001b[0m\u001b[0m\n\u001b[1;32m---> 83\u001b[1;33m \u001b[0mrun\u001b[0m\u001b[1;33m(\u001b[0m\u001b[1;33m)\u001b[0m\u001b[1;33m\u001b[0m\u001b[1;33m\u001b[0m\u001b[0m\n\u001b[0m",
      "\u001b[1;32m<ipython-input-11-8ae429086aa1>\u001b[0m in \u001b[0;36mrun\u001b[1;34m()\u001b[0m\n\u001b[0;32m     17\u001b[0m     \u001b[0mw1\u001b[0m \u001b[1;33m/=\u001b[0m \u001b[0mnp\u001b[0m\u001b[1;33m.\u001b[0m\u001b[0msqrt\u001b[0m\u001b[1;33m(\u001b[0m\u001b[0minput_dim\u001b[0m\u001b[1;33m)\u001b[0m\u001b[1;33m\u001b[0m\u001b[1;33m\u001b[0m\u001b[0m\n\u001b[0;32m     18\u001b[0m     \u001b[0mw2\u001b[0m \u001b[1;33m/=\u001b[0m \u001b[0mnp\u001b[0m\u001b[1;33m.\u001b[0m\u001b[0msqrt\u001b[0m\u001b[1;33m(\u001b[0m\u001b[0mhidden_dim\u001b[0m\u001b[1;33m)\u001b[0m\u001b[1;33m\u001b[0m\u001b[1;33m\u001b[0m\u001b[0m\n\u001b[1;32m---> 19\u001b[1;33m     \u001b[0mnum_params\u001b[0m \u001b[1;33m=\u001b[0m \u001b[0mw1\u001b[0m\u001b[1;33m.\u001b[0m\u001b[0mshape\u001b[0m\u001b[1;33m[\u001b[0m\u001b[1;36m0\u001b[0m\u001b[1;33m]\u001b[0m \u001b[1;33m*\u001b[0m \u001b[0mw1\u001b[0m \u001b[1;33m*\u001b[0m \u001b[0mshape\u001b[0m\u001b[1;33m[\u001b[0m\u001b[1;36m1\u001b[0m\u001b[1;33m]\u001b[0m \u001b[1;33m+\u001b[0m \u001b[0mw2\u001b[0m\u001b[1;33m.\u001b[0m\u001b[0mshape\u001b[0m\u001b[1;33m[\u001b[0m\u001b[1;36m0\u001b[0m\u001b[1;33m]\u001b[0m \u001b[1;33m*\u001b[0m \u001b[0mw2\u001b[0m\u001b[1;33m.\u001b[0m\u001b[0mshape\u001b[0m\u001b[1;33m[\u001b[0m\u001b[1;36m1\u001b[0m\u001b[1;33m]\u001b[0m\u001b[1;33m\u001b[0m\u001b[1;33m\u001b[0m\u001b[0m\n\u001b[0m\u001b[0;32m     20\u001b[0m     \u001b[1;32mfor\u001b[0m \u001b[0mi\u001b[0m \u001b[1;32min\u001b[0m \u001b[0mrange\u001b[0m\u001b[1;33m(\u001b[0m\u001b[0mnum_epochs\u001b[0m\u001b[1;33m)\u001b[0m\u001b[1;33m:\u001b[0m\u001b[1;33m\u001b[0m\u001b[1;33m\u001b[0m\u001b[0m\n\u001b[0;32m     21\u001b[0m \u001b[1;33m\u001b[0m\u001b[0m\n",
      "\u001b[1;31mNameError\u001b[0m: name 'shape' is not defined"
     ]
    }
   ],
   "source": [
    "def run():\n",
    "    X, y = load_XOR_data(N = 300)\n",
    "    N = int(X.shape[0])\n",
    "    input_dim = int(X.shape[1])\n",
    "    hidden_dim = 3\n",
    "    output_dim = 2\n",
    "    num_epochs = 1000000\n",
    "    learnin_rate = 1e-3\n",
    "    reg_coeff = 0.0\n",
    "    \n",
    "    # Initialize weights\n",
    "    np.random.seed(2017)\n",
    "    w1 = 2.0 * np.random.random((input_dim, hidden_dim)) - 1.0    # w0 = (2, hidden_dim) = (2, 100)\n",
    "    w2 = 2.0 * np.random.random((hidden_dim, output_dim)) - 1.0   # w1 = (hidde_dim, 2) = (100, 2)\n",
    "    \n",
    "    # Calibrating cariances with i/sqrt(fan_in)\n",
    "    w1 /= np.sqrt(input_dim)\n",
    "    w2 /= np.sqrt(hidden_dim)\n",
    "    num_params = w1.shape[0] * w1 * shape[1] + w2.shape[0] * w2.shape[1]\n",
    "    for i in range(num_epochs):\n",
    "        \n",
    "        index = np.arange(X.shape[0])[:N]\n",
    "        # np.random.shuffle(index)\n",
    "        \n",
    "        #-------------------------------------------------------------------------------------------------------------------\n",
    "        # Forward step:\n",
    "        h1 = sigmoid(np.matmul(X[index], w1))                     # (N, 3)\n",
    "        #is want to shuffle indices: np.random.shuffle(index)\n",
    "\n",
    "        #---------------------------------------------------------------------------------------------------------------\n",
    "        # Forward step:\n",
    "        h1 = sigmoid(np.matmul(X[index], w1))                   #(N, 3)\n",
    "        logits = sigmoid(np.matmul(h1, w2))                     #(N, 2)\n",
    "        probs = np.exp(logits)/np.sum(np.exp(logits), axis=1, keepdims=True)\n",
    "        h2 = logits\n",
    "\n",
    "        #---------------------------------------------------------------------------------------------------------------\n",
    "        # Definition of Loss function: mean squared error plus Ridge regularization\n",
    "        L = np.square(y[index]-h2).sum()/(2*N) + reg_coeff*(np.square(w1).sum()+np.square(w2).sum())/(2*N)\n",
    "\n",
    "        losses.append([i,L])\n",
    "\n",
    "        #---------------------------------------------------------------------------------------------------------------\n",
    "        # Backward step: Error = W_l e_l+1 f'_l\n",
    "        #       dL/dw2 = dL/dh2 * dh2/dz2 * dz2/dw2\n",
    "        dL_dh2 = -(y[index] - h2)                               #(N, 2)\n",
    "        dh2_dz2 = sigmoid(h2, first_derivative=True)            #(N, 2)\n",
    "        dz2_dw2 = h1                                            #(N, hidden_dim)\n",
    "        #Gradient for weight2:   (hidden_dim,N)x(N,2)*(N,2)\n",
    "        dL_dw2 = dz2_dw2.T.dot(dL_dh2*dh2_dz2) + reg_coeff*np.square(w2).sum()\n",
    "\n",
    "        #dL/dw1 = dL/dh1 * dh1/dz1 * dz1/dw1\n",
    "        #       dL/dh1 = dL/dz2 * dz2/dh1\n",
    "        #       dL/dz2 = dL/dh2 * dh2/dz2\n",
    "        dL_dz2 = dL_dh2 * dh2_dz2                               #(N, 2)\n",
    "        dz2_dh1 = w2                                            #z2 = h1*w2\n",
    "        dL_dh1 =  dL_dz2.dot(dz2_dh1.T)                         #(N,2)x(2, hidden_dim)=(N, hidden_dim)\n",
    "        dh1_dz1 = sigmoid(h1, first_derivative=True)            #(N,hidden_dim)\n",
    "        dz1_dw1 = X[index]                                      #(N,2)\n",
    "        #Gradient for weight1:  (2,N)x((N,hidden_dim)*(N,hidden_dim))\n",
    "        dL_dw1 = dz1_dw1.T.dot(dL_dh1*dh1_dz1) + reg_coeff*np.square(w1).sum()\n",
    "\n",
    "        #weight updates:\n",
    "        w2 += -learning_rate*dL_dw2\n",
    "        w1 += -learning_rate*dL_dw1\n",
    "        if True: #(i+1)%1000==0:\n",
    "            y_pred = inference(X, [w1, w2])\n",
    "            y_actual = np.argmax(y, axis=1)\n",
    "            accuracy = np.sum(np.equal(y_pred,y_actual))/len(y_actual)\n",
    "            accuracies.append([i, accuracy])\n",
    "\n",
    "        if (i+1)% 10000 == 0:\n",
    "            print('Epoch %d\\tLoss: %f Average L1 error: %f Accuracy: %f' %(i, L, np.mean(np.abs(dL_dh2)), accuracy))\n",
    "            save_filepath = './scratch_mlp/plots/boundary/image_%d.png'%i\n",
    "            text = 'Batch #: %d    Accuracy: %.2f    Loss value: %.2f'%(i, accuracy, L)\n",
    "            utils.plot_decision_boundary(X, y_actual, lambda x: inference(x, [w1, w2]),\n",
    "                                         save_filepath=save_filepath, text = text)\n",
    "            save_filepath = './scratch_mlp/plots/loss/image_%d.png' % i\n",
    "            utils.plot_function(losses, save_filepath=save_filepath, ylabel='Loss', title='Loss estimation')\n",
    "            save_filepath = './scratch_mlp/plots/accuracy/image_%d.png' % i\n",
    "            utils.plot_function(accuracies, save_filepath=save_filepath, ylabel='Accuracy', title='Accuracy estimation')\n",
    "\n",
    "run()"
   ]
  },
  {
   "cell_type": "code",
   "execution_count": null,
   "metadata": {},
   "outputs": [],
   "source": []
  }
 ],
 "metadata": {
  "kernelspec": {
   "display_name": "Python 3",
   "language": "python",
   "name": "python3"
  },
  "language_info": {
   "codemirror_mode": {
    "name": "ipython",
    "version": 3
   },
   "file_extension": ".py",
   "mimetype": "text/x-python",
   "name": "python",
   "nbconvert_exporter": "python",
   "pygments_lexer": "ipython3",
   "version": "3.7.3rc1"
  }
 },
 "nbformat": 4,
 "nbformat_minor": 2
}
